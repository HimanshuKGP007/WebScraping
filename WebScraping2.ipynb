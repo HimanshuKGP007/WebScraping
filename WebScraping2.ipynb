{
  "nbformat": 4,
  "nbformat_minor": 0,
  "metadata": {
    "colab": {
      "name": "WebScraping2.ipynb",
      "provenance": [],
      "authorship_tag": "ABX9TyMELw9ZnGSPywrwVsZzBXOK",
      "include_colab_link": true
    },
    "kernelspec": {
      "name": "python3",
      "display_name": "Python 3"
    }
  },
  "cells": [
    {
      "cell_type": "markdown",
      "metadata": {
        "id": "view-in-github",
        "colab_type": "text"
      },
      "source": [
        "<a href=\"https://colab.research.google.com/github/HimanshuKGP007/WebScraping/blob/main/WebScraping2.ipynb\" target=\"_parent\"><img src=\"https://colab.research.google.com/assets/colab-badge.svg\" alt=\"Open In Colab\"/></a>"
      ]
    },
    {
      "cell_type": "code",
      "metadata": {
        "id": "aXiQHHea5BRB"
      },
      "source": [
        "from bs4 import BeautifulSoup as soup  # HTML data structure\n",
        "from urllib.request import urlopen as uReq  # Web client"
      ],
      "execution_count": 9,
      "outputs": []
    },
    {
      "cell_type": "code",
      "metadata": {
        "id": "Ef3jc_DD5Fc6"
      },
      "source": [
        "# URl to web scrap from.\n",
        "# in this example we web scrap graphics cards from Newegg.com\n",
        "page_url = \"http://www.newegg.com/Product/ProductList.aspx?Submit=ENE&N=-1&IsNodeId=1&Description=GTX&bop=And&Page=1&PageSize=36&order=BESTMATCH\""
      ],
      "execution_count": 10,
      "outputs": []
    },
    {
      "cell_type": "code",
      "metadata": {
        "id": "oSXqmpu15UZ-"
      },
      "source": [
        "# opens the connection and downloads html page from url\n",
        "uClient = uReq(page_url)"
      ],
      "execution_count": 11,
      "outputs": []
    },
    {
      "cell_type": "code",
      "metadata": {
        "colab": {
          "base_uri": "https://localhost:8080/"
        },
        "id": "vACY6319DC6x",
        "outputId": "d76d5da5-4d30-4720-dadb-5f27f9d50fa9"
      },
      "source": [
        "print(type(uClient))"
      ],
      "execution_count": 12,
      "outputs": [
        {
          "output_type": "stream",
          "text": [
            "<class 'http.client.HTTPResponse'>\n"
          ],
          "name": "stdout"
        }
      ]
    },
    {
      "cell_type": "code",
      "metadata": {
        "id": "LapOW5MNDYxC"
      },
      "source": [
        "# parses html into a soup data structure to traverse html\n",
        "# as if it were a json data type.\n",
        "page_soup = soup(uClient.read(), \"html.parser\")\n",
        "uClient.close()"
      ],
      "execution_count": 13,
      "outputs": []
    },
    {
      "cell_type": "code",
      "metadata": {
        "id": "NYNple4ZFtws"
      },
      "source": [
        ""
      ],
      "execution_count": null,
      "outputs": []
    }
  ]
}